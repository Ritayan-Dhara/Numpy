{
 "cells": [
  {
   "cell_type": "code",
   "execution_count": 0,
   "metadata": {
    "colab": {},
    "colab_type": "code",
    "id": "PixVU2DY1Umv"
   },
   "outputs": [],
   "source": [
    "import numpy as np"
   ]
  },
  {
   "cell_type": "code",
   "execution_count": 0,
   "metadata": {
    "colab": {},
    "colab_type": "code",
    "id": "WVwTgTtl1ZSC"
   },
   "outputs": [],
   "source": [
    "def linearly_spaced(start,end,num=50,endpoint=True,retstep=False,dtype=None):\n",
    "    \n",
    "    arr=np.empty(num)\n",
    "    \n",
    "    if endpoint==True:\n",
    "        step=(end-start)/(num-1)\n",
    "    else:\n",
    "        step=(end-start)/num\n",
    "        \n",
    "    for i in range(num):\n",
    "            arr[i]=start+step*i\n",
    "                    \n",
    "    if dtype!=None:\n",
    "        arr=np.asarray([dtype(i) for i in arr])\n",
    "        \n",
    "    if retstep==False:\n",
    "        return arr\n",
    "    else:\n",
    "        return (arr,step)"
   ]
  },
  {
   "cell_type": "markdown",
   "metadata": {
    "colab_type": "text",
    "id": "wMhp3skP9aCT"
   },
   "source": [
    "**Example 1**"
   ]
  },
  {
   "cell_type": "code",
   "execution_count": 4,
   "metadata": {
    "colab": {
     "base_uri": "https://localhost:8080/",
     "height": 85
    },
    "colab_type": "code",
    "executionInfo": {
     "elapsed": 871,
     "status": "ok",
     "timestamp": 1581017039017,
     "user": {
      "displayName": "ritayan dhara",
      "photoUrl": "https://lh3.googleusercontent.com/a-/AAuE7mCMi27EnpsittkRy3mKXDuBaPijSvs50LNteQ9D-A=s64",
      "userId": "11874694749832033299"
     },
     "user_tz": -330
    },
    "id": "6yL13saw1hmn",
    "outputId": "f7457a08-3a59-48c8-e6eb-f17365dc9f3c"
   },
   "outputs": [
    {
     "data": {
      "text/plain": [
       "array([ 1.        ,  1.47368421,  1.94736842,  2.42105263,  2.89473684,\n",
       "        3.36842105,  3.84210526,  4.31578947,  4.78947368,  5.26315789,\n",
       "        5.73684211,  6.21052632,  6.68421053,  7.15789474,  7.63157895,\n",
       "        8.10526316,  8.57894737,  9.05263158,  9.52631579, 10.        ])"
      ]
     },
     "execution_count": 4,
     "metadata": {
      "tags": []
     },
     "output_type": "execute_result"
    }
   ],
   "source": [
    "np.linspace(1,10,20)"
   ]
  },
  {
   "cell_type": "code",
   "execution_count": 5,
   "metadata": {
    "colab": {
     "base_uri": "https://localhost:8080/",
     "height": 85
    },
    "colab_type": "code",
    "executionInfo": {
     "elapsed": 843,
     "status": "ok",
     "timestamp": 1581017142218,
     "user": {
      "displayName": "ritayan dhara",
      "photoUrl": "https://lh3.googleusercontent.com/a-/AAuE7mCMi27EnpsittkRy3mKXDuBaPijSvs50LNteQ9D-A=s64",
      "userId": "11874694749832033299"
     },
     "user_tz": -330
    },
    "id": "J1NnLz4i9XyC",
    "outputId": "c1032daa-b146-462d-f607-6ddc3cb8213f"
   },
   "outputs": [
    {
     "data": {
      "text/plain": [
       "array([ 1.        ,  1.47368421,  1.94736842,  2.42105263,  2.89473684,\n",
       "        3.36842105,  3.84210526,  4.31578947,  4.78947368,  5.26315789,\n",
       "        5.73684211,  6.21052632,  6.68421053,  7.15789474,  7.63157895,\n",
       "        8.10526316,  8.57894737,  9.05263158,  9.52631579, 10.        ])"
      ]
     },
     "execution_count": 5,
     "metadata": {
      "tags": []
     },
     "output_type": "execute_result"
    }
   ],
   "source": [
    "linearly_spaced(1,10,20)"
   ]
  },
  {
   "cell_type": "markdown",
   "metadata": {
    "colab_type": "text",
    "id": "I9_feeOK9yL6"
   },
   "source": [
    "**Example 2**"
   ]
  },
  {
   "cell_type": "code",
   "execution_count": 7,
   "metadata": {
    "colab": {
     "base_uri": "https://localhost:8080/",
     "height": 187
    },
    "colab_type": "code",
    "executionInfo": {
     "elapsed": 858,
     "status": "ok",
     "timestamp": 1581017191216,
     "user": {
      "displayName": "ritayan dhara",
      "photoUrl": "https://lh3.googleusercontent.com/a-/AAuE7mCMi27EnpsittkRy3mKXDuBaPijSvs50LNteQ9D-A=s64",
      "userId": "11874694749832033299"
     },
     "user_tz": -330
    },
    "id": "hTe6rfrL946C",
    "outputId": "de6f2d62-3be6-447a-e12b-74056afa2623"
   },
   "outputs": [
    {
     "data": {
      "text/plain": [
       "array([ 1.        ,  1.18367347,  1.36734694,  1.55102041,  1.73469388,\n",
       "        1.91836735,  2.10204082,  2.28571429,  2.46938776,  2.65306122,\n",
       "        2.83673469,  3.02040816,  3.20408163,  3.3877551 ,  3.57142857,\n",
       "        3.75510204,  3.93877551,  4.12244898,  4.30612245,  4.48979592,\n",
       "        4.67346939,  4.85714286,  5.04081633,  5.2244898 ,  5.40816327,\n",
       "        5.59183673,  5.7755102 ,  5.95918367,  6.14285714,  6.32653061,\n",
       "        6.51020408,  6.69387755,  6.87755102,  7.06122449,  7.24489796,\n",
       "        7.42857143,  7.6122449 ,  7.79591837,  7.97959184,  8.16326531,\n",
       "        8.34693878,  8.53061224,  8.71428571,  8.89795918,  9.08163265,\n",
       "        9.26530612,  9.44897959,  9.63265306,  9.81632653, 10.        ])"
      ]
     },
     "execution_count": 7,
     "metadata": {
      "tags": []
     },
     "output_type": "execute_result"
    }
   ],
   "source": [
    "np.linspace(1,10)"
   ]
  },
  {
   "cell_type": "code",
   "execution_count": 8,
   "metadata": {
    "colab": {
     "base_uri": "https://localhost:8080/",
     "height": 187
    },
    "colab_type": "code",
    "executionInfo": {
     "elapsed": 892,
     "status": "ok",
     "timestamp": 1581017203272,
     "user": {
      "displayName": "ritayan dhara",
      "photoUrl": "https://lh3.googleusercontent.com/a-/AAuE7mCMi27EnpsittkRy3mKXDuBaPijSvs50LNteQ9D-A=s64",
      "userId": "11874694749832033299"
     },
     "user_tz": -330
    },
    "id": "j2kEy2CZ988L",
    "outputId": "5fe187c0-d0bd-4e86-af3e-e564ef63ff03"
   },
   "outputs": [
    {
     "data": {
      "text/plain": [
       "array([ 1.        ,  1.18367347,  1.36734694,  1.55102041,  1.73469388,\n",
       "        1.91836735,  2.10204082,  2.28571429,  2.46938776,  2.65306122,\n",
       "        2.83673469,  3.02040816,  3.20408163,  3.3877551 ,  3.57142857,\n",
       "        3.75510204,  3.93877551,  4.12244898,  4.30612245,  4.48979592,\n",
       "        4.67346939,  4.85714286,  5.04081633,  5.2244898 ,  5.40816327,\n",
       "        5.59183673,  5.7755102 ,  5.95918367,  6.14285714,  6.32653061,\n",
       "        6.51020408,  6.69387755,  6.87755102,  7.06122449,  7.24489796,\n",
       "        7.42857143,  7.6122449 ,  7.79591837,  7.97959184,  8.16326531,\n",
       "        8.34693878,  8.53061224,  8.71428571,  8.89795918,  9.08163265,\n",
       "        9.26530612,  9.44897959,  9.63265306,  9.81632653, 10.        ])"
      ]
     },
     "execution_count": 8,
     "metadata": {
      "tags": []
     },
     "output_type": "execute_result"
    }
   ],
   "source": [
    "np.linspace(1,10)"
   ]
  },
  {
   "cell_type": "markdown",
   "metadata": {
    "colab_type": "text",
    "id": "hhGzEHoJ-Fb6"
   },
   "source": [
    "Example 3"
   ]
  },
  {
   "cell_type": "code",
   "execution_count": 14,
   "metadata": {
    "colab": {
     "base_uri": "https://localhost:8080/",
     "height": 51
    },
    "colab_type": "code",
    "executionInfo": {
     "elapsed": 1083,
     "status": "ok",
     "timestamp": 1581017554400,
     "user": {
      "displayName": "ritayan dhara",
      "photoUrl": "https://lh3.googleusercontent.com/a-/AAuE7mCMi27EnpsittkRy3mKXDuBaPijSvs50LNteQ9D-A=s64",
      "userId": "11874694749832033299"
     },
     "user_tz": -330
    },
    "id": "00vp8bEB-Ifv",
    "outputId": "887a078e-cd10-4076-cefd-15503a345a08"
   },
   "outputs": [
    {
     "data": {
      "text/plain": [
       "array([1.  , 1.45, 1.9 , 2.35, 2.8 , 3.25, 3.7 , 4.15, 4.6 , 5.05, 5.5 ,\n",
       "       5.95, 6.4 , 6.85, 7.3 , 7.75, 8.2 , 8.65, 9.1 , 9.55])"
      ]
     },
     "execution_count": 14,
     "metadata": {
      "tags": []
     },
     "output_type": "execute_result"
    }
   ],
   "source": [
    "np.linspace(1,10,20,endpoint=False)"
   ]
  },
  {
   "cell_type": "code",
   "execution_count": 11,
   "metadata": {
    "colab": {
     "base_uri": "https://localhost:8080/",
     "height": 51
    },
    "colab_type": "code",
    "executionInfo": {
     "elapsed": 663,
     "status": "ok",
     "timestamp": 1581017404586,
     "user": {
      "displayName": "ritayan dhara",
      "photoUrl": "https://lh3.googleusercontent.com/a-/AAuE7mCMi27EnpsittkRy3mKXDuBaPijSvs50LNteQ9D-A=s64",
      "userId": "11874694749832033299"
     },
     "user_tz": -330
    },
    "id": "2wWT68GU-pVM",
    "outputId": "a5a7be4e-0168-4029-9c6a-db0c1bab875c"
   },
   "outputs": [
    {
     "data": {
      "text/plain": [
       "array([1.  , 1.45, 1.9 , 2.35, 2.8 , 3.25, 3.7 , 4.15, 4.6 , 5.05, 5.5 ,\n",
       "       5.95, 6.4 , 6.85, 7.3 , 7.75, 8.2 , 8.65, 9.1 , 9.55])"
      ]
     },
     "execution_count": 11,
     "metadata": {
      "tags": []
     },
     "output_type": "execute_result"
    }
   ],
   "source": [
    "linearly_spaced(1,10,20,endpoint=False)"
   ]
  },
  {
   "cell_type": "code",
   "execution_count": 0,
   "metadata": {
    "colab": {},
    "colab_type": "code",
    "id": "-Sf9PXkH-xFU"
   },
   "outputs": [],
   "source": []
  },
  {
   "cell_type": "markdown",
   "metadata": {
    "colab_type": "text",
    "id": "auveBjx4AKGB"
   },
   "source": [
    "Example 4"
   ]
  },
  {
   "cell_type": "code",
   "execution_count": 12,
   "metadata": {
    "colab": {
     "base_uri": "https://localhost:8080/",
     "height": 102
    },
    "colab_type": "code",
    "executionInfo": {
     "elapsed": 868,
     "status": "ok",
     "timestamp": 1581017490925,
     "user": {
      "displayName": "ritayan dhara",
      "photoUrl": "https://lh3.googleusercontent.com/a-/AAuE7mCMi27EnpsittkRy3mKXDuBaPijSvs50LNteQ9D-A=s64",
      "userId": "11874694749832033299"
     },
     "user_tz": -330
    },
    "id": "ce7zYhse-8-S",
    "outputId": "354b1ff5-3aaa-40a3-de44-26efb676d780"
   },
   "outputs": [
    {
     "data": {
      "text/plain": [
       "(array([ 1.        ,  1.47368421,  1.94736842,  2.42105263,  2.89473684,\n",
       "         3.36842105,  3.84210526,  4.31578947,  4.78947368,  5.26315789,\n",
       "         5.73684211,  6.21052632,  6.68421053,  7.15789474,  7.63157895,\n",
       "         8.10526316,  8.57894737,  9.05263158,  9.52631579, 10.        ]),\n",
       " 0.47368421052631576)"
      ]
     },
     "execution_count": 12,
     "metadata": {
      "tags": []
     },
     "output_type": "execute_result"
    }
   ],
   "source": [
    "np.linspace(1,10,20,retstep=True)"
   ]
  },
  {
   "cell_type": "code",
   "execution_count": 13,
   "metadata": {
    "colab": {
     "base_uri": "https://localhost:8080/",
     "height": 102
    },
    "colab_type": "code",
    "executionInfo": {
     "elapsed": 854,
     "status": "ok",
     "timestamp": 1581017512049,
     "user": {
      "displayName": "ritayan dhara",
      "photoUrl": "https://lh3.googleusercontent.com/a-/AAuE7mCMi27EnpsittkRy3mKXDuBaPijSvs50LNteQ9D-A=s64",
      "userId": "11874694749832033299"
     },
     "user_tz": -330
    },
    "id": "-gBWasLw_GHG",
    "outputId": "ac41f992-bf92-4886-9dc6-d4f5d4f83b6a"
   },
   "outputs": [
    {
     "data": {
      "text/plain": [
       "(array([ 1.        ,  1.47368421,  1.94736842,  2.42105263,  2.89473684,\n",
       "         3.36842105,  3.84210526,  4.31578947,  4.78947368,  5.26315789,\n",
       "         5.73684211,  6.21052632,  6.68421053,  7.15789474,  7.63157895,\n",
       "         8.10526316,  8.57894737,  9.05263158,  9.52631579, 10.        ]),\n",
       " 0.47368421052631576)"
      ]
     },
     "execution_count": 13,
     "metadata": {
      "tags": []
     },
     "output_type": "execute_result"
    }
   ],
   "source": [
    "linearly_spaced(1,10,20,retstep=True)"
   ]
  },
  {
   "cell_type": "code",
   "execution_count": 0,
   "metadata": {
    "colab": {},
    "colab_type": "code",
    "id": "7O70fuPG_LRc"
   },
   "outputs": [],
   "source": []
  },
  {
   "cell_type": "markdown",
   "metadata": {
    "colab_type": "text",
    "id": "i5qjlpAl_Wwt"
   },
   "source": [
    "**Example 5**"
   ]
  },
  {
   "cell_type": "code",
   "execution_count": 15,
   "metadata": {
    "colab": {
     "base_uri": "https://localhost:8080/",
     "height": 51
    },
    "colab_type": "code",
    "executionInfo": {
     "elapsed": 1194,
     "status": "ok",
     "timestamp": 1581017596639,
     "user": {
      "displayName": "ritayan dhara",
      "photoUrl": "https://lh3.googleusercontent.com/a-/AAuE7mCMi27EnpsittkRy3mKXDuBaPijSvs50LNteQ9D-A=s64",
      "userId": "11874694749832033299"
     },
     "user_tz": -330
    },
    "id": "g68kEl7Z_avg",
    "outputId": "72f493ed-57dc-4347-fe70-061bc2c40244"
   },
   "outputs": [
    {
     "data": {
      "text/plain": [
       "array([ 1,  1,  1,  2,  2,  3,  3,  4,  4,  5,  5,  6,  6,  7,  7,  8,  8,\n",
       "        9,  9, 10])"
      ]
     },
     "execution_count": 15,
     "metadata": {
      "tags": []
     },
     "output_type": "execute_result"
    }
   ],
   "source": [
    "np.linspace(1,10,20,dtype=int)"
   ]
  },
  {
   "cell_type": "code",
   "execution_count": 16,
   "metadata": {
    "colab": {
     "base_uri": "https://localhost:8080/",
     "height": 51
    },
    "colab_type": "code",
    "executionInfo": {
     "elapsed": 1135,
     "status": "ok",
     "timestamp": 1581017618912,
     "user": {
      "displayName": "ritayan dhara",
      "photoUrl": "https://lh3.googleusercontent.com/a-/AAuE7mCMi27EnpsittkRy3mKXDuBaPijSvs50LNteQ9D-A=s64",
      "userId": "11874694749832033299"
     },
     "user_tz": -330
    },
    "id": "LWbbvr30_fvB",
    "outputId": "b2972e05-3b8e-4629-fe9d-a11ce05dd5d2"
   },
   "outputs": [
    {
     "data": {
      "text/plain": [
       "array([ 1,  1,  1,  2,  2,  3,  3,  4,  4,  5,  5,  6,  6,  7,  7,  8,  8,\n",
       "        9,  9, 10])"
      ]
     },
     "execution_count": 16,
     "metadata": {
      "tags": []
     },
     "output_type": "execute_result"
    }
   ],
   "source": [
    "linearly_spaced(1,10,20,dtype=int)"
   ]
  },
  {
   "cell_type": "markdown",
   "metadata": {
    "colab_type": "text",
    "id": "sEvuJJp2_mU5"
   },
   "source": [
    "Example 6"
   ]
  },
  {
   "cell_type": "code",
   "execution_count": 18,
   "metadata": {
    "colab": {
     "base_uri": "https://localhost:8080/",
     "height": 34
    },
    "colab_type": "code",
    "executionInfo": {
     "elapsed": 966,
     "status": "ok",
     "timestamp": 1581017705811,
     "user": {
      "displayName": "ritayan dhara",
      "photoUrl": "https://lh3.googleusercontent.com/a-/AAuE7mCMi27EnpsittkRy3mKXDuBaPijSvs50LNteQ9D-A=s64",
      "userId": "11874694749832033299"
     },
     "user_tz": -330
    },
    "id": "SOwciTCi_o9-",
    "outputId": "cf6de695-e0dd-4c01-a827-8eb4ec84c4cf"
   },
   "outputs": [
    {
     "data": {
      "text/plain": [
       "(array([1, 1, 1, 2, 2, 3, 3, 4, 4, 5, 5, 5, 6, 6, 7, 7, 8, 8, 9, 9]), 0.45)"
      ]
     },
     "execution_count": 18,
     "metadata": {
      "tags": []
     },
     "output_type": "execute_result"
    }
   ],
   "source": [
    "np.linspace(1,10,20,endpoint=False,retstep=True,dtype=int)"
   ]
  },
  {
   "cell_type": "code",
   "execution_count": 19,
   "metadata": {
    "colab": {
     "base_uri": "https://localhost:8080/",
     "height": 34
    },
    "colab_type": "code",
    "executionInfo": {
     "elapsed": 883,
     "status": "ok",
     "timestamp": 1581017707298,
     "user": {
      "displayName": "ritayan dhara",
      "photoUrl": "https://lh3.googleusercontent.com/a-/AAuE7mCMi27EnpsittkRy3mKXDuBaPijSvs50LNteQ9D-A=s64",
      "userId": "11874694749832033299"
     },
     "user_tz": -330
    },
    "id": "fP6yYTYO_u54",
    "outputId": "b8c31622-6659-4e01-ef08-7c25bda954f7"
   },
   "outputs": [
    {
     "data": {
      "text/plain": [
       "(array([1, 1, 1, 2, 2, 3, 3, 4, 4, 5, 5, 5, 6, 6, 7, 7, 8, 8, 9, 9]), 0.45)"
      ]
     },
     "execution_count": 19,
     "metadata": {
      "tags": []
     },
     "output_type": "execute_result"
    }
   ],
   "source": [
    "linearly_spaced(1,10,20,endpoint=False,retstep=True,dtype=int)"
   ]
  },
  {
   "cell_type": "code",
   "execution_count": 0,
   "metadata": {
    "colab": {},
    "colab_type": "code",
    "id": "yNHI2EDQ_67y"
   },
   "outputs": [],
   "source": []
  }
 ],
 "metadata": {
  "colab": {
   "collapsed_sections": [],
   "name": "ritayan dhara - Linspace.ipynb",
   "provenance": []
  },
  "kernelspec": {
   "display_name": "Python 3",
   "language": "python",
   "name": "python3"
  },
  "language_info": {
   "codemirror_mode": {
    "name": "ipython",
    "version": 3
   },
   "file_extension": ".py",
   "mimetype": "text/x-python",
   "name": "python",
   "nbconvert_exporter": "python",
   "pygments_lexer": "ipython3",
   "version": "3.7.4"
  }
 },
 "nbformat": 4,
 "nbformat_minor": 1
}
