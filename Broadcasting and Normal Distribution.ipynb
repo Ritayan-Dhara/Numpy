{
 "cells": [
  {
   "cell_type": "markdown",
   "metadata": {
    "colab_type": "text",
    "id": "HHEofVKhbKOJ"
   },
   "source": [
    "Let me tell you a story, Once a statistician was lost in a jungle. It was pitch dark. Nothing could be seen around. The statistician was afraid but he kept moving. Suddenly, he saw a small house. He went there and knocked on the door. Someone opened the door. \n",
    "\n",
    "Guess what was the first question that came out of the statistician's mouth...\n",
    "\n",
    "Bhaiya, yahan kahin aas paas Normal Distribution milega?\n",
    "\n",
    "That's how important Normal distribution is in a Statistician's (read, Data Analyst) life. Whenever a statistician is lost in an analysis, his/her first response is to reach or find a normal distribution somewhere. \n",
    "\n",
    "![alt text](https://media2.giphy.com/media/maIEBUU5OmrMA/source.gif)\n",
    "\n",
    "Although, we are going to study Normal Distribution in future episodes:). Today I want you to get a feel of the Normal/Gaussian Distribution."
   ]
  },
  {
   "cell_type": "markdown",
   "metadata": {
    "colab_type": "text",
    "id": "udWaNZcNehRo"
   },
   "source": [
    "In a normal distribution, there are 2 things of utmost importance, Mean and the Standard Deviation. ([Read more about Normal Distribution here](https://en.wikipedia.org/wiki/Normal_distribution)).\n",
    "\n",
    "I want you to create a function which takes 2 inputs - the Mean and Standard Deviation and prints out the graph of the Normal Distribution (also known as PDF, you will find the formula in the wiki article). Assume x is given and calculate y using the pdf formula. The resultant graph would look something like this (any one of them):!\n",
    "\n",
    "![](https://upload.wikimedia.org/wikipedia/commons/thumb/7/74/Normal_Distribution_PDF.svg/340px-Normal_Distribution_PDF.svg.png)"
   ]
  },
  {
   "cell_type": "code",
   "execution_count": 0,
   "metadata": {
    "colab": {},
    "colab_type": "code",
    "id": "fhPRbXGiXaoK"
   },
   "outputs": [],
   "source": [
    "import numpy as np\n",
    "from math import exp,sqrt,pi\n",
    "import matplotlib.ticker as tck\n",
    "import matplotlib.pyplot as plt\n",
    "\n",
    "# Write function code here\n",
    "\n",
    "def plotter(mn,sd):\n",
    "    x=np.linspace(-10,10,100)\n",
    "    var=[]\n",
    "    for i in range(len(x)):\n",
    "        var.append( exp(-((x[i]-mn)**2) / (2*(sd**2)) ) / (sd*sqrt(2*pi)) )\n",
    "    plt.plot(x,var)\n",
    "    \n",
    "    plt.title(\"Normal Distribution\")\n",
    "    plt.xlabel('X\\nSD=σ\\nmean=μ')\n",
    "    plt.ylabel('Variance')  \n",
    "    plt.grid()\n",
    "\n",
    "    plt.xticks(np.linspace(mn-sd*5,mn+sd*5,10),['μ' + x + 'σ' for x in np.char.mod('%d', np.linspace(-5,-1,5))]+['μ+' + x + 'σ' for x in np.char.mod('%d', np.linspace(1,5,5))])\n",
    "    "
   ]
  },
  {
   "cell_type": "code",
   "execution_count": 0,
   "metadata": {
    "colab": {
     "base_uri": "https://localhost:8080/",
     "height": 319
    },
    "colab_type": "code",
    "executionInfo": {
     "elapsed": 2368,
     "status": "ok",
     "timestamp": 1582228316723,
     "user": {
      "displayName": "X campusx",
      "photoUrl": "https://lh3.googleusercontent.com/a-/AAuE7mC7C45oXV2YDmcuVlCPeBHdzmVVIzSdt03iP-vR=s64",
      "userId": "13340339673123429128"
     },
     "user_tz": -330
    },
    "id": "jNV55O6kx2Wc",
    "outputId": "f5dbef11-2f4a-4af8-d123-8a48a5732562"
   },
   "outputs": [
    {
     "data": {
      "image/png": "[encoded data removed]",
      "text/plain": [
       "<Figure size 432x288 with 1 Axes>"
      ]
     },
     "metadata": {
      "tags": []
     },
     "output_type": "display_data"
    }
   ],
   "source": [
    "x=np.linspace(-10,10,100)\n",
    "m=np.mean(x)\n",
    "s=np.std(x)\n",
    "plotter(m,s)"
   ]
  },
  {
   "cell_type": "code",
   "execution_count": 0,
   "metadata": {
    "colab": {},
    "colab_type": "code",
    "id": "EyGxRgFRx4VB"
   },
   "outputs": [],
   "source": [
    "# You have write a function which takes 2 numpy array as input and returns \"Hoga\" or \"Nahi Hoga\" \n",
    "# depending on if broadcasting is possible on those two arrays"
   ]
  },
  {
   "cell_type": "code",
   "execution_count": 0,
   "metadata": {
    "colab": {},
    "colab_type": "code",
    "id": "R05QS3qFx66r"
   },
   "outputs": [],
   "source": [
    "# Write your logic here\n",
    "def hoga_ki_nahi(arr1,arr2):\n",
    "    c=0\n",
    "    min_len=len(arr1.shape) if len(arr1.shape)<len(arr2.shape) else len(arr2.shape)\n",
    "    a=np.asarray(np.where(np.asarray(arr1.shape)==1))\n",
    "    b=np.asarray(np.where(np.asarray(arr2.shape)==1))\n",
    "        \n",
    "    if (arr1.shape==arr2.shape):\n",
    "        c=c+1\n",
    "    elif arr1.size==1 or arr2.size==1:\n",
    "        c=c+1\n",
    "    elif (len(arr1.shape)==1 or len(arr2.shape)==1) and (m.shape[-1]==n.shape[-1]):\n",
    "        c=c+1\n",
    "    elif arr1.shape[1:]==arr2.shape[1:]:\n",
    "        c=c+1\n",
    "    elif arr1.shape[-min_len:]==arr2.shape[-min_len:]:\n",
    "        c=c+1\n",
    "    elif a.size!=0 and b.size!=0:\n",
    "        a1=np.concatenate([arr1.shape[0:a[0,0]],arr1.shape[a[0,0]+1:]])\n",
    "        a2=np.concatenate([arr2.shape[0:b[0,0]],arr2.shape[b[0,0]+1:]])\n",
    "        \n",
    "        if np.array_equal(a1,a2):\n",
    "            c=c+1\n",
    "    elif a.size!=0:\n",
    "        \n",
    "        if arr2.shape[0:a[0,0]]==arr1.shape[0:a[0,0]] and arr2.shape[a[0,0]+1:]==arr1.shape[a[0,0]+1:]:\n",
    "            c=c+1\n",
    "    elif b.size!=0:\n",
    "        if arr2.shape[0:b[0,0]]==arr1.shape[0:b[0,0]] and arr2.shape[b[0,0]+1:]==arr1.shape[b[0,0]+1:]:\n",
    "            c=c+1\n",
    "    if(c==0):\n",
    "        print(\"Nehi Hoga\")\n",
    "    else:\n",
    "        print(\"Hoga\")"
   ]
  },
  {
   "cell_type": "code",
   "execution_count": 0,
   "metadata": {
    "colab": {
     "base_uri": "https://localhost:8080/",
     "height": 34
    },
    "colab_type": "code",
    "executionInfo": {
     "elapsed": 2349,
     "status": "ok",
     "timestamp": 1582228316726,
     "user": {
      "displayName": "X campusx",
      "photoUrl": "https://lh3.googleusercontent.com/a-/AAuE7mC7C45oXV2YDmcuVlCPeBHdzmVVIzSdt03iP-vR=s64",
      "userId": "13340339673123429128"
     },
     "user_tz": -330
    },
    "id": "S_v0TvSLx8pk",
    "outputId": "b6b60e8f-ef4a-4ddd-9814-46ed19ba650d"
   },
   "outputs": [
    {
     "name": "stdout",
     "output_type": "stream",
     "text": [
      "Hoga\n"
     ]
    }
   ],
   "source": [
    "# Test your function here\n",
    "m=np.arange(15).reshape(3,5)\n",
    "n=np.arange(15).reshape(3,5)\n",
    "\n",
    "hoga_ki_nahi(m,n)"
   ]
  },
  {
   "cell_type": "code",
   "execution_count": 0,
   "metadata": {
    "colab": {
     "base_uri": "https://localhost:8080/",
     "height": 34
    },
    "colab_type": "code",
    "executionInfo": {
     "elapsed": 2339,
     "status": "ok",
     "timestamp": 1582228316727,
     "user": {
      "displayName": "X campusx",
      "photoUrl": "https://lh3.googleusercontent.com/a-/AAuE7mC7C45oXV2YDmcuVlCPeBHdzmVVIzSdt03iP-vR=s64",
      "userId": "13340339673123429128"
     },
     "user_tz": -330
    },
    "id": "Qr-FZuWTx-4R",
    "outputId": "d438fdfb-283a-4e53-e91b-5375cf14415a"
   },
   "outputs": [
    {
     "name": "stdout",
     "output_type": "stream",
     "text": [
      "Nehi Hoga\n"
     ]
    }
   ],
   "source": [
    "m=np.arange(15).reshape(5,3)\n",
    "n=np.arange(15).reshape(3,5)\n",
    "\n",
    "hoga_ki_nahi(m,n)"
   ]
  },
  {
   "cell_type": "code",
   "execution_count": 0,
   "metadata": {
    "colab": {
     "base_uri": "https://localhost:8080/",
     "height": 34
    },
    "colab_type": "code",
    "executionInfo": {
     "elapsed": 2328,
     "status": "ok",
     "timestamp": 1582228316728,
     "user": {
      "displayName": "X campusx",
      "photoUrl": "https://lh3.googleusercontent.com/a-/AAuE7mC7C45oXV2YDmcuVlCPeBHdzmVVIzSdt03iP-vR=s64",
      "userId": "13340339673123429128"
     },
     "user_tz": -330
    },
    "id": "gjJHzg4ZyA1t",
    "outputId": "419c7af4-4729-4315-c1bb-c380d9a95e99"
   },
   "outputs": [
    {
     "name": "stdout",
     "output_type": "stream",
     "text": [
      "Hoga\n"
     ]
    }
   ],
   "source": [
    "m=np.arange(15).reshape(1,15)\n",
    "n=np.arange(15).reshape(15,1)\n",
    "\n",
    "hoga_ki_nahi(m,n)"
   ]
  },
  {
   "cell_type": "code",
   "execution_count": 0,
   "metadata": {
    "colab": {
     "base_uri": "https://localhost:8080/",
     "height": 34
    },
    "colab_type": "code",
    "executionInfo": {
     "elapsed": 2317,
     "status": "ok",
     "timestamp": 1582228316728,
     "user": {
      "displayName": "X campusx",
      "photoUrl": "https://lh3.googleusercontent.com/a-/AAuE7mC7C45oXV2YDmcuVlCPeBHdzmVVIzSdt03iP-vR=s64",
      "userId": "13340339673123429128"
     },
     "user_tz": -330
    },
    "id": "dQeIZahUyC73",
    "outputId": "bbf938d6-4548-409f-8c5a-2e62cf4b489e"
   },
   "outputs": [
    {
     "name": "stdout",
     "output_type": "stream",
     "text": [
      "Nehi Hoga\n"
     ]
    }
   ],
   "source": [
    "m=np.arange(15).reshape(3,5)\n",
    "n=np.arange(15).reshape(5,3)\n",
    "\n",
    "hoga_ki_nahi(m,n)"
   ]
  },
  {
   "cell_type": "code",
   "execution_count": 0,
   "metadata": {
    "colab": {
     "base_uri": "https://localhost:8080/",
     "height": 34
    },
    "colab_type": "code",
    "executionInfo": {
     "elapsed": 2307,
     "status": "ok",
     "timestamp": 1582228316729,
     "user": {
      "displayName": "X campusx",
      "photoUrl": "https://lh3.googleusercontent.com/a-/AAuE7mC7C45oXV2YDmcuVlCPeBHdzmVVIzSdt03iP-vR=s64",
      "userId": "13340339673123429128"
     },
     "user_tz": -330
    },
    "id": "JIxj9bGhyFOB",
    "outputId": "87d90c25-618f-4cb5-a1d8-78edb0e0295d"
   },
   "outputs": [
    {
     "name": "stdout",
     "output_type": "stream",
     "text": [
      "Hoga\n"
     ]
    }
   ],
   "source": [
    "m=np.arange(3)\n",
    "n=np.arange(12).reshape(4,3)\n",
    "\n",
    "hoga_ki_nahi(m,n)"
   ]
  },
  {
   "cell_type": "code",
   "execution_count": 0,
   "metadata": {
    "colab": {
     "base_uri": "https://localhost:8080/",
     "height": 34
    },
    "colab_type": "code",
    "executionInfo": {
     "elapsed": 2297,
     "status": "ok",
     "timestamp": 1582228316730,
     "user": {
      "displayName": "X campusx",
      "photoUrl": "https://lh3.googleusercontent.com/a-/AAuE7mC7C45oXV2YDmcuVlCPeBHdzmVVIzSdt03iP-vR=s64",
      "userId": "13340339673123429128"
     },
     "user_tz": -330
    },
    "id": "cfISbgfGyHcO",
    "outputId": "bc25fa93-2d9a-4a1e-e605-23600d3142df"
   },
   "outputs": [
    {
     "name": "stdout",
     "output_type": "stream",
     "text": [
      "Nehi Hoga\n"
     ]
    }
   ],
   "source": [
    "m=np.arange(3)\n",
    "n=np.arange(12).reshape(3,4)\n",
    "\n",
    "hoga_ki_nahi(m,n)"
   ]
  },
  {
   "cell_type": "code",
   "execution_count": 0,
   "metadata": {
    "colab": {
     "base_uri": "https://localhost:8080/",
     "height": 34
    },
    "colab_type": "code",
    "executionInfo": {
     "elapsed": 2285,
     "status": "ok",
     "timestamp": 1582228316730,
     "user": {
      "displayName": "X campusx",
      "photoUrl": "https://lh3.googleusercontent.com/a-/AAuE7mC7C45oXV2YDmcuVlCPeBHdzmVVIzSdt03iP-vR=s64",
      "userId": "13340339673123429128"
     },
     "user_tz": -330
    },
    "id": "pbTYE8i5yKa5",
    "outputId": "6fce63ce-8bd0-4b33-b24d-52cd3c0ca76f"
   },
   "outputs": [
    {
     "name": "stdout",
     "output_type": "stream",
     "text": [
      "Hoga\n"
     ]
    }
   ],
   "source": [
    "m=np.arange(3).reshape(3,1)\n",
    "n=np.arange(12).reshape(3,4)\n",
    "\n",
    "hoga_ki_nahi(m,n)"
   ]
  },
  {
   "cell_type": "code",
   "execution_count": 0,
   "metadata": {
    "colab": {
     "base_uri": "https://localhost:8080/",
     "height": 34
    },
    "colab_type": "code",
    "executionInfo": {
     "elapsed": 2275,
     "status": "ok",
     "timestamp": 1582228316731,
     "user": {
      "displayName": "X campusx",
      "photoUrl": "https://lh3.googleusercontent.com/a-/AAuE7mC7C45oXV2YDmcuVlCPeBHdzmVVIzSdt03iP-vR=s64",
      "userId": "13340339673123429128"
     },
     "user_tz": -330
    },
    "id": "fcbDM8cyyNk-",
    "outputId": "23916699-e684-4dbb-ba74-0471dafbf90d"
   },
   "outputs": [
    {
     "name": "stdout",
     "output_type": "stream",
     "text": [
      "Hoga\n"
     ]
    }
   ],
   "source": [
    "m=np.arange(60).reshape(3,4,5)\n",
    "n=np.arange(60*5*2).reshape(2,5,3,4,5)\n",
    "\n",
    "hoga_ki_nahi(m,n)"
   ]
  },
  {
   "cell_type": "code",
   "execution_count": 0,
   "metadata": {
    "colab": {
     "base_uri": "https://localhost:8080/",
     "height": 34
    },
    "colab_type": "code",
    "executionInfo": {
     "elapsed": 2264,
     "status": "ok",
     "timestamp": 1582228316731,
     "user": {
      "displayName": "X campusx",
      "photoUrl": "https://lh3.googleusercontent.com/a-/AAuE7mC7C45oXV2YDmcuVlCPeBHdzmVVIzSdt03iP-vR=s64",
      "userId": "13340339673123429128"
     },
     "user_tz": -330
    },
    "id": "B5AGp0RuyPVR",
    "outputId": "c2b90982-1a0b-44f2-dc0f-204c16379a38"
   },
   "outputs": [
    {
     "name": "stdout",
     "output_type": "stream",
     "text": [
      "Nehi Hoga\n"
     ]
    }
   ],
   "source": [
    "m=np.arange(12).reshape(4,3)\n",
    "n=np.arange(15).reshape(3,5)\n",
    "\n",
    "hoga_ki_nahi(m,n)"
   ]
  },
  {
   "cell_type": "code",
   "execution_count": 0,
   "metadata": {
    "colab": {
     "base_uri": "https://localhost:8080/",
     "height": 34
    },
    "colab_type": "code",
    "executionInfo": {
     "elapsed": 2254,
     "status": "ok",
     "timestamp": 1582228316732,
     "user": {
      "displayName": "X campusx",
      "photoUrl": "https://lh3.googleusercontent.com/a-/AAuE7mC7C45oXV2YDmcuVlCPeBHdzmVVIzSdt03iP-vR=s64",
      "userId": "13340339673123429128"
     },
     "user_tz": -330
    },
    "id": "r64QWmawyRL1",
    "outputId": "d0d770b1-c62b-4139-c5e7-d0d16786085c"
   },
   "outputs": [
    {
     "name": "stdout",
     "output_type": "stream",
     "text": [
      "Hoga\n"
     ]
    }
   ],
   "source": [
    "\n",
    "m=np.arange(1080).reshape(4,5,1,2,3,9)\n",
    "n=np.arange(1080).reshape(4,5,2,1,3,9)\n",
    "\n",
    "hoga_ki_nahi(m,n)"
   ]
  },
  {
   "cell_type": "code",
   "execution_count": 0,
   "metadata": {
    "colab": {
     "base_uri": "https://localhost:8080/",
     "height": 34
    },
    "colab_type": "code",
    "executionInfo": {
     "elapsed": 2243,
     "status": "ok",
     "timestamp": 1582228316732,
     "user": {
      "displayName": "X campusx",
      "photoUrl": "https://lh3.googleusercontent.com/a-/AAuE7mC7C45oXV2YDmcuVlCPeBHdzmVVIzSdt03iP-vR=s64",
      "userId": "13340339673123429128"
     },
     "user_tz": -330
    },
    "id": "Ab87E-y1yTJT",
    "outputId": "4d952bc1-0f25-4785-f694-6d811cbc147c"
   },
   "outputs": [
    {
     "name": "stdout",
     "output_type": "stream",
     "text": [
      "Nehi Hoga\n"
     ]
    }
   ],
   "source": [
    "m=np.arange(12).reshape(3,4)\n",
    "n=np.arange(29).reshape(1,29)\n",
    "\n",
    "hoga_ki_nahi(m,n)"
   ]
  },
  {
   "cell_type": "code",
   "execution_count": 0,
   "metadata": {
    "colab": {
     "base_uri": "https://localhost:8080/",
     "height": 34
    },
    "colab_type": "code",
    "executionInfo": {
     "elapsed": 2233,
     "status": "ok",
     "timestamp": 1582228316733,
     "user": {
      "displayName": "X campusx",
      "photoUrl": "https://lh3.googleusercontent.com/a-/AAuE7mC7C45oXV2YDmcuVlCPeBHdzmVVIzSdt03iP-vR=s64",
      "userId": "13340339673123429128"
     },
     "user_tz": -330
    },
    "id": "jkpW2UCXyVXo",
    "outputId": "89eaec15-030d-4368-ea2b-f7efff106e72"
   },
   "outputs": [
    {
     "name": "stdout",
     "output_type": "stream",
     "text": [
      "Nehi Hoga\n"
     ]
    }
   ],
   "source": [
    "m=np.arange(12).reshape(3,4)\n",
    "n=np.arange(29).reshape(1,1,29)\n",
    "\n",
    "hoga_ki_nahi(m,n)"
   ]
  },
  {
   "cell_type": "code",
   "execution_count": 0,
   "metadata": {
    "colab": {
     "base_uri": "https://localhost:8080/",
     "height": 34
    },
    "colab_type": "code",
    "executionInfo": {
     "elapsed": 2223,
     "status": "ok",
     "timestamp": 1582228316734,
     "user": {
      "displayName": "X campusx",
      "photoUrl": "https://lh3.googleusercontent.com/a-/AAuE7mC7C45oXV2YDmcuVlCPeBHdzmVVIzSdt03iP-vR=s64",
      "userId": "13340339673123429128"
     },
     "user_tz": -330
    },
    "id": "NdcH2j8AyXDo",
    "outputId": "5140659d-8861-4f1b-eda5-99a109f5bb9d"
   },
   "outputs": [
    {
     "name": "stdout",
     "output_type": "stream",
     "text": [
      "Nehi Hoga\n"
     ]
    }
   ],
   "source": [
    "m=np.arange(12).reshape(3,4,1)\n",
    "n=np.arange(30).reshape(1,5,6)\n",
    "\n",
    "hoga_ki_nahi(m,n)"
   ]
  },
  {
   "cell_type": "code",
   "execution_count": 0,
   "metadata": {
    "colab": {},
    "colab_type": "code",
    "id": "2rj6N29RyY7V"
   },
   "outputs": [],
   "source": []
  }
 ],
 "metadata": {
  "colab": {
   "collapsed_sections": [],
   "name": "ritayan dhara - numpy-assignment-5.ipynb",
   "provenance": []
  },
  "kernelspec": {
   "display_name": "Python 3",
   "language": "python",
   "name": "python3"
  },
  "language_info": {
   "codemirror_mode": {
    "name": "ipython",
    "version": 3
   },
   "file_extension": ".py",
   "mimetype": "text/x-python",
   "name": "python",
   "nbconvert_exporter": "python",
   "pygments_lexer": "ipython3",
   "version": "3.7.4"
  }
 },
 "nbformat": 4,
 "nbformat_minor": 1
}
