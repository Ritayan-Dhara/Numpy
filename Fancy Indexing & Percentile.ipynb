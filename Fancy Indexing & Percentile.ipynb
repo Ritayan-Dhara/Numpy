{
 "cells": [
  {
   "cell_type": "code",
   "execution_count": 0,
   "metadata": {
    "colab": {},
    "colab_type": "code",
    "id": "LYAs5f4MUyqX"
   },
   "outputs": [],
   "source": [
    "import numpy as np"
   ]
  },
  {
   "cell_type": "code",
   "execution_count": 0,
   "metadata": {
    "colab": {
     "base_uri": "https://localhost:8080/",
     "height": 85
    },
    "colab_type": "code",
    "executionInfo": {
     "elapsed": 992,
     "status": "ok",
     "timestamp": 1581617311549,
     "user": {
      "displayName": "ritayan dhara",
      "photoUrl": "https://lh3.googleusercontent.com/a-/AAuE7mCMi27EnpsittkRy3mKXDuBaPijSvs50LNteQ9D-A=s64",
      "userId": "11874694749832033299"
     },
     "user_tz": -330
    },
    "id": "kith96zaU3v4",
    "outputId": "f5abcf6a-4a4d-40f2-c636-5b7de0f05e29"
   },
   "outputs": [
    {
     "data": {
      "text/plain": [
       "array([[ 0,  1,  2,  3,  4],\n",
       "       [ 5,  6,  7,  8,  9],\n",
       "       [10, 11, 12, 13, 14],\n",
       "       [15, 16, 17, 18, 19]])"
      ]
     },
     "execution_count": 2,
     "metadata": {
      "tags": []
     },
     "output_type": "execute_result"
    }
   ],
   "source": [
    "arr1=np.arange(20).reshape(4,5)\n",
    "arr1"
   ]
  },
  {
   "cell_type": "code",
   "execution_count": 0,
   "metadata": {
    "colab": {},
    "colab_type": "code",
    "id": "hSQuEs7WVpXk"
   },
   "outputs": [],
   "source": [
    "# Q1 Write a numpy code to swap col1([0,5,10,15]) with col4([3,8,13,18])\n",
    "# Hint----> Fancy Indexing"
   ]
  },
  {
   "cell_type": "code",
   "execution_count": 0,
   "metadata": {
    "colab": {},
    "colab_type": "code",
    "id": "cAqbFJQqoF1K"
   },
   "outputs": [],
   "source": [
    "arr1[:,[0, 3]] = arr1[:,[3, 0]]"
   ]
  },
  {
   "cell_type": "code",
   "execution_count": 0,
   "metadata": {
    "colab": {
     "base_uri": "https://localhost:8080/",
     "height": 85
    },
    "colab_type": "code",
    "executionInfo": {
     "elapsed": 697,
     "status": "ok",
     "timestamp": 1581617315514,
     "user": {
      "displayName": "ritayan dhara",
      "photoUrl": "https://lh3.googleusercontent.com/a-/AAuE7mCMi27EnpsittkRy3mKXDuBaPijSvs50LNteQ9D-A=s64",
      "userId": "11874694749832033299"
     },
     "user_tz": -330
    },
    "id": "Rb7ue9JsoTYt",
    "outputId": "6208a611-2acd-44ad-9da9-84f58c22e9ca"
   },
   "outputs": [
    {
     "data": {
      "text/plain": [
       "array([[ 3,  1,  2,  0,  4],\n",
       "       [ 8,  6,  7,  5,  9],\n",
       "       [13, 11, 12, 10, 14],\n",
       "       [18, 16, 17, 15, 19]])"
      ]
     },
     "execution_count": 5,
     "metadata": {
      "tags": []
     },
     "output_type": "execute_result"
    }
   ],
   "source": [
    "arr1"
   ]
  },
  {
   "cell_type": "code",
   "execution_count": 0,
   "metadata": {
    "colab": {},
    "colab_type": "code",
    "id": "qzrMoxJSWOEm"
   },
   "outputs": [],
   "source": [
    "# Q2 Write a numpy code to reverse the rows of arr1\n",
    "# The output should be [15, 16, 17, 18, 19] as first row and [ 0,  1,  2,  3,  4] as last row"
   ]
  },
  {
   "cell_type": "code",
   "execution_count": 0,
   "metadata": {
    "colab": {
     "base_uri": "https://localhost:8080/",
     "height": 85
    },
    "colab_type": "code",
    "executionInfo": {
     "elapsed": 959,
     "status": "ok",
     "timestamp": 1581617333865,
     "user": {
      "displayName": "ritayan dhara",
      "photoUrl": "https://lh3.googleusercontent.com/a-/AAuE7mCMi27EnpsittkRy3mKXDuBaPijSvs50LNteQ9D-A=s64",
      "userId": "11874694749832033299"
     },
     "user_tz": -330
    },
    "id": "304b9zDguLJU",
    "outputId": "54e27b64-4e13-4e49-c2c8-dbc74b6f9932"
   },
   "outputs": [
    {
     "data": {
      "text/plain": [
       "array([[ 0,  1,  2,  3,  4],\n",
       "       [ 5,  6,  7,  8,  9],\n",
       "       [10, 11, 12, 13, 14],\n",
       "       [15, 16, 17, 18, 19]])"
      ]
     },
     "execution_count": 7,
     "metadata": {
      "tags": []
     },
     "output_type": "execute_result"
    }
   ],
   "source": [
    "# initialising arr1 again\n",
    "arr1=np.arange(20).reshape(4,5)\n",
    "arr1"
   ]
  },
  {
   "cell_type": "code",
   "execution_count": 0,
   "metadata": {
    "colab": {},
    "colab_type": "code",
    "id": "dsQ4VbECoj6p"
   },
   "outputs": [],
   "source": [
    "arr1=np.flip(arr1,0)"
   ]
  },
  {
   "cell_type": "code",
   "execution_count": 0,
   "metadata": {
    "colab": {
     "base_uri": "https://localhost:8080/",
     "height": 85
    },
    "colab_type": "code",
    "executionInfo": {
     "elapsed": 964,
     "status": "ok",
     "timestamp": 1581617337358,
     "user": {
      "displayName": "ritayan dhara",
      "photoUrl": "https://lh3.googleusercontent.com/a-/AAuE7mCMi27EnpsittkRy3mKXDuBaPijSvs50LNteQ9D-A=s64",
      "userId": "11874694749832033299"
     },
     "user_tz": -330
    },
    "id": "pEfGb2wYokEY",
    "outputId": "b6838985-5132-4250-d37b-42a49638e9e4"
   },
   "outputs": [
    {
     "data": {
      "text/plain": [
       "array([[15, 16, 17, 18, 19],\n",
       "       [10, 11, 12, 13, 14],\n",
       "       [ 5,  6,  7,  8,  9],\n",
       "       [ 0,  1,  2,  3,  4]])"
      ]
     },
     "execution_count": 9,
     "metadata": {
      "tags": []
     },
     "output_type": "execute_result"
    }
   ],
   "source": [
    "arr1"
   ]
  },
  {
   "cell_type": "code",
   "execution_count": 0,
   "metadata": {
    "colab": {},
    "colab_type": "code",
    "id": "8B_EIEIludRd"
   },
   "outputs": [],
   "source": []
  },
  {
   "cell_type": "code",
   "execution_count": 0,
   "metadata": {
    "colab": {
     "base_uri": "https://localhost:8080/",
     "height": 68
    },
    "colab_type": "code",
    "executionInfo": {
     "elapsed": 662,
     "status": "ok",
     "timestamp": 1581617344290,
     "user": {
      "displayName": "ritayan dhara",
      "photoUrl": "https://lh3.googleusercontent.com/a-/AAuE7mCMi27EnpsittkRy3mKXDuBaPijSvs50LNteQ9D-A=s64",
      "userId": "11874694749832033299"
     },
     "user_tz": -330
    },
    "id": "qU9DW6vQWivF",
    "outputId": "14dd62f9-925e-498b-c10d-484964589314"
   },
   "outputs": [
    {
     "data": {
      "text/plain": [
       "array([[ 1.,  2., nan],\n",
       "       [ 4.,  5.,  6.],\n",
       "       [nan, nan,  9.]])"
      ]
     },
     "execution_count": 10,
     "metadata": {
      "tags": []
     },
     "output_type": "execute_result"
    }
   ],
   "source": [
    "arr2=np.array([[1,2,np.nan],[4,5,6],[np.nan,np.nan,9]])\n",
    "arr2"
   ]
  },
  {
   "cell_type": "code",
   "execution_count": 0,
   "metadata": {
    "colab": {},
    "colab_type": "code",
    "id": "V9pLugRlXZCV"
   },
   "outputs": [],
   "source": [
    "# Q3 Write a code to replace all the nan(missing values) of arr2 with the mean of arr2"
   ]
  },
  {
   "cell_type": "code",
   "execution_count": 0,
   "metadata": {
    "colab": {},
    "colab_type": "code",
    "id": "3sWhQ7ThqZqI"
   },
   "outputs": [],
   "source": [
    "# consideriing nan values to be zero\n",
    "# size of array is calculated excluding nan values\n",
    "arr2=np.where(np.isnan(arr2),np.nanmean(arr2),arr2)"
   ]
  },
  {
   "cell_type": "code",
   "execution_count": 0,
   "metadata": {
    "colab": {
     "base_uri": "https://localhost:8080/",
     "height": 68
    },
    "colab_type": "code",
    "executionInfo": {
     "elapsed": 822,
     "status": "ok",
     "timestamp": 1581617351459,
     "user": {
      "displayName": "ritayan dhara",
      "photoUrl": "https://lh3.googleusercontent.com/a-/AAuE7mCMi27EnpsittkRy3mKXDuBaPijSvs50LNteQ9D-A=s64",
      "userId": "11874694749832033299"
     },
     "user_tz": -330
    },
    "id": "IW-b-s3UqZmk",
    "outputId": "70e48a5c-4e6a-4910-de35-703b53b28748"
   },
   "outputs": [
    {
     "data": {
      "text/plain": [
       "array([[1. , 2. , 4.5],\n",
       "       [4. , 5. , 6. ],\n",
       "       [4.5, 4.5, 9. ]])"
      ]
     },
     "execution_count": 13,
     "metadata": {
      "tags": []
     },
     "output_type": "execute_result"
    }
   ],
   "source": [
    "arr2"
   ]
  },
  {
   "cell_type": "code",
   "execution_count": 0,
   "metadata": {
    "colab": {
     "base_uri": "https://localhost:8080/",
     "height": 68
    },
    "colab_type": "code",
    "executionInfo": {
     "elapsed": 911,
     "status": "ok",
     "timestamp": 1581617354294,
     "user": {
      "displayName": "ritayan dhara",
      "photoUrl": "https://lh3.googleusercontent.com/a-/AAuE7mCMi27EnpsittkRy3mKXDuBaPijSvs50LNteQ9D-A=s64",
      "userId": "11874694749832033299"
     },
     "user_tz": -330
    },
    "id": "IHAKfQsTuw5R",
    "outputId": "65f75979-d4e0-44fd-86b2-b8b71d5c0e50"
   },
   "outputs": [
    {
     "data": {
      "text/plain": [
       "array([[ 1.,  2., nan],\n",
       "       [ 4.,  5.,  6.],\n",
       "       [nan, nan,  9.]])"
      ]
     },
     "execution_count": 14,
     "metadata": {
      "tags": []
     },
     "output_type": "execute_result"
    }
   ],
   "source": [
    "# initialising arr2 again\n",
    "arr2=np.array([[1,2,np.nan],[4,5,6],[np.nan,np.nan,9]])\n",
    "arr2"
   ]
  },
  {
   "cell_type": "code",
   "execution_count": 0,
   "metadata": {
    "colab": {},
    "colab_type": "code",
    "id": "C6YOd4ywrB7e"
   },
   "outputs": [],
   "source": [
    "# consideriing nan values to be zero\n",
    "# size of array is calculated including the nan values\n",
    "arr2=np.where(np.isnan(arr2),np.mean(np.nan_to_num(arr2)),arr2)"
   ]
  },
  {
   "cell_type": "code",
   "execution_count": 0,
   "metadata": {
    "colab": {
     "base_uri": "https://localhost:8080/",
     "height": 68
    },
    "colab_type": "code",
    "executionInfo": {
     "elapsed": 1001,
     "status": "ok",
     "timestamp": 1581617360924,
     "user": {
      "displayName": "ritayan dhara",
      "photoUrl": "https://lh3.googleusercontent.com/a-/AAuE7mCMi27EnpsittkRy3mKXDuBaPijSvs50LNteQ9D-A=s64",
      "userId": "11874694749832033299"
     },
     "user_tz": -330
    },
    "id": "PtT0R1U7rB37",
    "outputId": "a8b0c6c3-ed5b-4f0b-c383-3aa0d2b710c6"
   },
   "outputs": [
    {
     "data": {
      "text/plain": [
       "array([[1., 2., 3.],\n",
       "       [4., 5., 6.],\n",
       "       [3., 3., 9.]])"
      ]
     },
     "execution_count": 16,
     "metadata": {
      "tags": []
     },
     "output_type": "execute_result"
    }
   ],
   "source": [
    "arr2"
   ]
  },
  {
   "cell_type": "code",
   "execution_count": 0,
   "metadata": {
    "colab": {},
    "colab_type": "code",
    "id": "eYA8SGlQwQ6D"
   },
   "outputs": [],
   "source": []
  },
  {
   "cell_type": "code",
   "execution_count": 0,
   "metadata": {
    "colab": {
     "base_uri": "https://localhost:8080/",
     "height": 102
    },
    "colab_type": "code",
    "executionInfo": {
     "elapsed": 1254,
     "status": "ok",
     "timestamp": 1581617365194,
     "user": {
      "displayName": "ritayan dhara",
      "photoUrl": "https://lh3.googleusercontent.com/a-/AAuE7mCMi27EnpsittkRy3mKXDuBaPijSvs50LNteQ9D-A=s64",
      "userId": "11874694749832033299"
     },
     "user_tz": -330
    },
    "id": "F3tUsOivZ6Wf",
    "outputId": "07af3ab1-8dbd-41ab-f13c-27a97b00ae5e"
   },
   "outputs": [
    {
     "data": {
      "text/plain": [
       "array([[34, 35, 88, 27],\n",
       "       [60, 24,  8, 50],\n",
       "       [ 8, 54,  6, 39],\n",
       "       [68, 13,  7, 17],\n",
       "       [17, 32, 98, 74]])"
      ]
     },
     "execution_count": 17,
     "metadata": {
      "tags": []
     },
     "output_type": "execute_result"
    }
   ],
   "source": [
    "arr3=np.random.randint(low=1,high=100,size=20).reshape(5,4)\n",
    "arr3"
   ]
  },
  {
   "cell_type": "code",
   "execution_count": 0,
   "metadata": {
    "colab": {},
    "colab_type": "code",
    "id": "HzeC03N6aQpx"
   },
   "outputs": [],
   "source": [
    "# Q4 Write a code which can fetch all items from arr3 which are either greater than 25 or a multiple of 3"
   ]
  },
  {
   "cell_type": "code",
   "execution_count": 0,
   "metadata": {
    "colab": {
     "base_uri": "https://localhost:8080/",
     "height": 34
    },
    "colab_type": "code",
    "executionInfo": {
     "elapsed": 955,
     "status": "ok",
     "timestamp": 1581617373688,
     "user": {
      "displayName": "ritayan dhara",
      "photoUrl": "https://lh3.googleusercontent.com/a-/AAuE7mCMi27EnpsittkRy3mKXDuBaPijSvs50LNteQ9D-A=s64",
      "userId": "11874694749832033299"
     },
     "user_tz": -330
    },
    "id": "zD6Vi19grKsl",
    "outputId": "11324c45-1232-4e65-e783-61739209fc1f"
   },
   "outputs": [
    {
     "data": {
      "text/plain": [
       "array([34, 35, 88, 27, 60, 24, 50, 54,  6, 39, 68, 32, 98, 74])"
      ]
     },
     "execution_count": 19,
     "metadata": {
      "tags": []
     },
     "output_type": "execute_result"
    }
   ],
   "source": [
    "arr3[(arr3>25) | (arr3%3==0)]"
   ]
  },
  {
   "cell_type": "code",
   "execution_count": 0,
   "metadata": {
    "colab": {},
    "colab_type": "code",
    "id": "PxcxU2ACa9Ri"
   },
   "outputs": [],
   "source": [
    "# Q5 Write a code to find the 10th, 25th, 50th(median) percentile of arr3\n",
    "# Percentiles are a very important concept in Statistics. If you don't know about it refer the video below\n",
    "# https://www.youtube.com/watch?v=Snf6Wpn-L4c\n",
    "# Hint: to solve this function google np.percentile()"
   ]
  },
  {
   "cell_type": "code",
   "execution_count": 0,
   "metadata": {
    "colab": {
     "base_uri": "https://localhost:8080/",
     "height": 34
    },
    "colab_type": "code",
    "executionInfo": {
     "elapsed": 894,
     "status": "ok",
     "timestamp": 1581616535962,
     "user": {
      "displayName": "ritayan dhara",
      "photoUrl": "https://lh3.googleusercontent.com/a-/AAuE7mCMi27EnpsittkRy3mKXDuBaPijSvs50LNteQ9D-A=s64",
      "userId": "11874694749832033299"
     },
     "user_tz": -330
    },
    "id": "_8moTHWYcDCt",
    "outputId": "d2ad8bad-08cb-46d7-a8a6-118a75ce6c4f"
   },
   "outputs": [
    {
     "data": {
      "text/plain": [
       "27.300000000000004"
      ]
     },
     "execution_count": 23,
     "metadata": {
      "tags": []
     },
     "output_type": "execute_result"
    }
   ],
   "source": [
    "np.percentile(arr3,10)"
   ]
  },
  {
   "cell_type": "code",
   "execution_count": 0,
   "metadata": {
    "colab": {
     "base_uri": "https://localhost:8080/",
     "height": 34
    },
    "colab_type": "code",
    "executionInfo": {
     "elapsed": 904,
     "status": "ok",
     "timestamp": 1581616544170,
     "user": {
      "displayName": "ritayan dhara",
      "photoUrl": "https://lh3.googleusercontent.com/a-/AAuE7mCMi27EnpsittkRy3mKXDuBaPijSvs50LNteQ9D-A=s64",
      "userId": "11874694749832033299"
     },
     "user_tz": -330
    },
    "id": "Ew_ZHF1GsRVP",
    "outputId": "1cd3b236-b345-468f-9c4f-613a6c4aa2af"
   },
   "outputs": [
    {
     "data": {
      "text/plain": [
       "42.25"
      ]
     },
     "execution_count": 24,
     "metadata": {
      "tags": []
     },
     "output_type": "execute_result"
    }
   ],
   "source": [
    "np.percentile(arr3,25)"
   ]
  },
  {
   "cell_type": "code",
   "execution_count": 0,
   "metadata": {
    "colab": {
     "base_uri": "https://localhost:8080/",
     "height": 34
    },
    "colab_type": "code",
    "executionInfo": {
     "elapsed": 926,
     "status": "ok",
     "timestamp": 1581616550393,
     "user": {
      "displayName": "ritayan dhara",
      "photoUrl": "https://lh3.googleusercontent.com/a-/AAuE7mCMi27EnpsittkRy3mKXDuBaPijSvs50LNteQ9D-A=s64",
      "userId": "11874694749832033299"
     },
     "user_tz": -330
    },
    "id": "pzD0u8S1sTVO",
    "outputId": "95e5adfa-eb21-4404-8de2-29fbe0b18988"
   },
   "outputs": [
    {
     "data": {
      "text/plain": [
       "59.5"
      ]
     },
     "execution_count": 25,
     "metadata": {
      "tags": []
     },
     "output_type": "execute_result"
    }
   ],
   "source": [
    "np.percentile(arr3,50)"
   ]
  },
  {
   "cell_type": "code",
   "execution_count": 0,
   "metadata": {
    "colab": {},
    "colab_type": "code",
    "id": "pNA29fLisU2R"
   },
   "outputs": [],
   "source": []
  }
 ],
 "metadata": {
  "colab": {
   "collapsed_sections": [],
   "name": "numpy-assignment-4.ipynb",
   "provenance": [
    {
     "file_id": "1OpsNY1QZ_oleWKwTAbwaE-9BhZvUuG3T",
     "timestamp": 1581617278790
    }
   ]
  },
  "kernelspec": {
   "display_name": "Python 3",
   "language": "python",
   "name": "python3"
  },
  "language_info": {
   "codemirror_mode": {
    "name": "ipython",
    "version": 3
   },
   "file_extension": ".py",
   "mimetype": "text/x-python",
   "name": "python",
   "nbconvert_exporter": "python",
   "pygments_lexer": "ipython3",
   "version": "3.7.4"
  }
 },
 "nbformat": 4,
 "nbformat_minor": 1
}
